{
 "cells": [
  {
   "cell_type": "markdown",
   "id": "greatest-mineral",
   "metadata": {},
   "source": [
    "## 정확도(accuracy)"
   ]
  },
  {
   "cell_type": "markdown",
   "id": "covered-repository",
   "metadata": {},
   "source": [
    "정확도 = 예측 결과가 동일한 데이터 건수 / 전체 예측 데이터 건수\n",
    "\n",
    "정확도는 직관적이지만 이진 분류의 경우 데이터의 구성에 따라 ML 모델의 성능을 왜곡할 수 있음"
   ]
  },
  {
   "cell_type": "code",
   "execution_count": 1,
   "id": "assisted-storm",
   "metadata": {},
   "outputs": [],
   "source": [
    "#타이타닉 생존자를 아무런 학습 없이 단지 성별에 따라 생존자를 예측하는 단순한 Classifier 코드\n",
    "\n",
    "from sklearn.base import BaseEstimator\n",
    "import numpy as np\n",
    "\n",
    "class MyDummyClassifier(BaseEstimator):\n",
    "    #fit()은 아무것도 학습하지 않음\n",
    "    def fit(self, X, y=None):\n",
    "        pass\n",
    "    #predict()는 단순히 Sex 피처가 1이면 0, 그렇지 않으면 1로 예측\n",
    "    def predict(self, X):\n",
    "        pred = np.zeros((X.shape[0], 1))\n",
    "        for i in range(X.shape[0]):\n",
    "            if X['Sex'].iloc[i] == 1:\n",
    "                pred[i] = 0\n",
    "            else:\n",
    "                pred[i] = 1\n",
    "        \n",
    "        return pred"
   ]
  },
  {
   "cell_type": "code",
   "execution_count": 2,
   "id": "public-tampa",
   "metadata": {},
   "outputs": [],
   "source": [
    "from sklearn import preprocessing\n",
    "\n",
    "#Null 처리 함수\n",
    "def fillna(df):\n",
    "    df['Age'].fillna(df['Age'].mean(), inplace=True)\n",
    "    df['Cabin'].fillna('N', inplace=True)\n",
    "    df['Embarked'].fillna('N', inplace=True)\n",
    "    df['Fare'].fillna(0, inplace=True)\n",
    "    return df\n",
    "\n",
    "#머신러닝 알고리즘에 불필요한 속성 제거\n",
    "def drop_features(df):\n",
    "    df.drop(['PassengerId', 'Name', 'Ticket'], axis=1, inplace=True)\n",
    "    return df\n",
    "\n",
    "#레이블 인코딩 수행\n",
    "def format_features(df):\n",
    "    df['Cabin'] = df['Cabin'].str[:1]\n",
    "    features = ['Cabin', 'Sex', 'Embarked']\n",
    "    for feature in features:\n",
    "        le = preprocessing.LabelEncoder()\n",
    "        le = le.fit(df[feature])\n",
    "        df[feature] = le.transform(df[feature])\n",
    "    return df\n",
    "\n",
    "#앞에서 설정한 데이터 전처리 함수 호출\n",
    "def transform_features(df):\n",
    "    df = fillna(df)\n",
    "    df = drop_features(df)\n",
    "    df = format_features(df)\n",
    "    return df"
   ]
  },
  {
   "cell_type": "code",
   "execution_count": 3,
   "id": "recognized-intent",
   "metadata": {},
   "outputs": [
    {
     "name": "stdout",
     "output_type": "stream",
     "text": [
      "Dummy Classifier의 정확도: 0.7877\n"
     ]
    }
   ],
   "source": [
    "import pandas as pd\n",
    "from sklearn.model_selection import train_test_split\n",
    "from sklearn.metrics import accuracy_score\n",
    "\n",
    "#데이터 가공, 학습/테스트 데이터 분할\n",
    "titanic_df = pd.read_csv('titanic_train.csv')\n",
    "y_titanic_df = titanic_df['Survived']\n",
    "X_titanic_df = titanic_df.drop('Survived', axis=1)\n",
    "X_titanic_df = transform_features(X_titanic_df)\n",
    "X_train, X_test, y_train, y_test = train_test_split(X_titanic_df, y_titanic_df, test_size=0.2, random_state=0)\n",
    "\n",
    "#위에서 생성한 Dummy Classifier를 이용해 학습/예측/평가\n",
    "myclf = MyDummyClassifier()\n",
    "myclf.fit(X_train, y_train)\n",
    "\n",
    "mypredictions = myclf.predict(X_test)\n",
    "print('Dummy Classifier의 정확도: {0:.4f}'.format(accuracy_score(y_test, mypredictions)))"
   ]
  },
  {
   "cell_type": "markdown",
   "id": "universal-hobby",
   "metadata": {},
   "source": [
    "단순한 알고리즘으로 예측하더라도 데이터 구성에 따라 정확도 높을 수 있으므로 정확도를 평가지표로 사용할 때는 신중해야함\n",
    "\n",
    "특히 불균형한 레이블 값 분포에서 모델 성능 평가하는 경우, 정확도는 적합하지 X"
   ]
  },
  {
   "cell_type": "code",
   "execution_count": 4,
   "id": "consolidated-budget",
   "metadata": {},
   "outputs": [
    {
     "name": "stdout",
     "output_type": "stream",
     "text": [
      "레이블 테스트 세트 크기: (450,)\n",
      "테스트 세트 레이블 0과 1의 분포도\n",
      "0    405\n",
      "1     45\n",
      "dtype: int64\n",
      "모든 예측을 0으로 하여도 정확도는 0.900\n"
     ]
    }
   ],
   "source": [
    "#MNIST 데이터 셋을 레이블 값이 7인 것만 True, 나머지는 False로 변환해 multi classification 에서 binary classification으로 변환\n",
    "#즉 10%만 True, 나머지는 False -> 모든 데이터를 0으로 예측하는 모델의 정확도는 90% -> 불균형한 레이블 데이터 세트에서는 정확도 사용 X\n",
    "\n",
    "from sklearn.datasets import load_digits\n",
    "from sklearn.model_selection import train_test_split\n",
    "from sklearn.base import BaseEstimator\n",
    "from sklearn.metrics import accuracy_score\n",
    "import numpy as np\n",
    "import pandas as pd\n",
    "\n",
    "class MyFakeClassifier(BaseEstimator):\n",
    "    def fit(sel, X, y):\n",
    "        pass\n",
    "    \n",
    "    #입력값으로 들어오는 X 데이터 세트의 크기만큼 모두 0값으로 만들어서 반환\n",
    "    def predict(self, X):\n",
    "        return np.zeros((len(X), 1), dtype=bool)\n",
    "    \n",
    "#사이킷런의 내장 데이터인 load_digits() 이용해 MNIST 데이터 로딩\n",
    "digits = load_digits()\n",
    "\n",
    "#digits 번호가 7번이면 True이고 이를 astype(int)로 1로 변환, 7번이 아니면 False이고 0으로 변환\n",
    "y = (digits.target == 7).astype(int)\n",
    "X_train, X_test, y_train, y_test = train_test_split(digits.data, y, random_state=11)\n",
    "\n",
    "#불균형한 레이블 데이터 분포도 확인\n",
    "print('레이블 테스트 세트 크기:', y_test.shape)\n",
    "print('테스트 세트 레이블 0과 1의 분포도')\n",
    "print(pd.Series(y_test).value_counts())\n",
    "\n",
    "#DummyClassifier로 학습/예측/정확도 평가\n",
    "fakeclf = MyFakeClassifier()\n",
    "fakeclf.fit(X_train, y_train)\n",
    "fakepred = fakeclf.predict(X_test)\n",
    "print('모든 예측을 0으로 하여도 정확도는 {:.3f}'.format(accuracy_score(y_test,fakepred)))"
   ]
  },
  {
   "cell_type": "markdown",
   "id": "gothic-showcase",
   "metadata": {},
   "source": [
    "## 오차행렬(confusion matrix, 혼동행렬)"
   ]
  },
  {
   "cell_type": "markdown",
   "id": "dress-european",
   "metadata": {},
   "source": [
    "4분면 행렬에서 실제 레이블 값과 예측 레이블 값 유형에 따라 TN, FP, FN, TP\n",
    "\n",
    "앞 T/F는 예측 값과 실제 값이 같은 지 다른 지, 뒤 N/P는 예측 결과 값이 부정(0)인지 긍정인지(1)"
   ]
  },
  {
   "cell_type": "code",
   "execution_count": 5,
   "id": "preceding-focus",
   "metadata": {},
   "outputs": [
    {
     "data": {
      "text/plain": [
       "array([[405,   0],\n",
       "       [ 45,   0]], dtype=int64)"
      ]
     },
     "execution_count": 5,
     "metadata": {},
     "output_type": "execute_result"
    }
   ],
   "source": [
    "from sklearn.metrics import confusion_matrix\n",
    "\n",
    "confusion_matrix(y_test, fakepred)"
   ]
  },
  {
   "cell_type": "markdown",
   "id": "dominant-knife",
   "metadata": {},
   "source": [
    "array[0,0] : TN, array[0,1] : FP, array[1,0] : FN, array[1,1] : TP\n",
    "\n",
    "MyFakeClassifier은 무조건 Negative 0으로 예측하는 Classifier - Negative 0으로 예측해서 True인 경우 405건, Negative 0으로 예측해서 False인 경우 45건"
   ]
  },
  {
   "cell_type": "markdown",
   "id": "developed-parade",
   "metadata": {},
   "source": [
    "정확도 = (TN+TP)/(TN+FP+FN+TP)\n",
    "\n",
    "보통 불균형한 이진분류 데이터 세트는 적은 수의 결괏값에 Positive 1 부여, 아니면 Negative 0 부여\n",
    "\n",
    "Negative로 예측할 때 TN 매우 커지고 TP, FN, FP 매우 작아짐. 따라서, Negative에 대한 예측 정확도만으로 분류의 정확도가 높아지는 오류 발생"
   ]
  },
  {
   "cell_type": "markdown",
   "id": "frozen-parcel",
   "metadata": {},
   "source": [
    "## 정밀도와 재현율"
   ]
  },
  {
   "cell_type": "markdown",
   "id": "civil-rhythm",
   "metadata": {},
   "source": [
    "Positive 데이터 세트의 예측 성능에 초점을 맞춘 평가 지표\n",
    "\n",
    "정밀도 = TP / (FP + TP) : 예측을 Positive로 한 대상 중 예측과 실제 값이 Positive로 일치한 데이터의 비율(양성 예측도)\n",
    "- 재현율이 중요 지표인 경우: 실제 Positive 데이터를 Negative로 잘못 판단하게 되면 업무상 큰 영향이 발생하는 경우 예) 암 판단 모델, 금융 사기 적발 모델\n",
    "\n",
    "재현율 = TP / (FN + TP) : 실제 값이 Positive인 대상 중 예측과 실제 값이 Positive로 일치한 데이터의 비율(민감도, True Positive Rate)\n",
    "- 정밀도가 중요 지표인 경우: 실제 Negative 데이터를 Positive로 잘못 판단하게 되면 업무상 큰 영향이 발생하는 경우 예) 스팸 메일 여부\n",
    "\n",
    "둘 다 TP를 높이는데 초점을 맞추지만 재현율은 FN 낮추는데, 정밀도는 FP 낮추는데 초점 - 상호보완적"
   ]
  },
  {
   "cell_type": "code",
   "execution_count": 6,
   "id": "junior-might",
   "metadata": {},
   "outputs": [],
   "source": [
    "#정밀도 : precision_score(), 재현율 : recall_score()\n",
    "\n",
    "from sklearn.metrics import accuracy_score, precision_score, recall_score, confusion_matrix\n",
    "\n",
    "def get_clf_eval(y_test, pred):\n",
    "    confusion = confusion_matrix(y_test, pred)\n",
    "    accuracy = accuracy_score(y_test, pred)\n",
    "    precision = precision_score(y_test, pred)\n",
    "    recall = recall_score(y_test, pred)\n",
    "    print('오차 행렬')\n",
    "    print(confusion)\n",
    "    print('정확도: {0:.4f}, 정밀도: {1:.4f}, 재현율: {2:.4f}'.format(accuracy, precision, recall))"
   ]
  },
  {
   "cell_type": "code",
   "execution_count": 7,
   "id": "civil-commercial",
   "metadata": {},
   "outputs": [
    {
     "name": "stdout",
     "output_type": "stream",
     "text": [
      "오차 행렬\n",
      "[[104  14]\n",
      " [ 13  48]]\n",
      "정확도: 0.8492, 정밀도: 0.7742, 재현율: 0.7869\n"
     ]
    },
    {
     "name": "stderr",
     "output_type": "stream",
     "text": [
      "c:\\python375\\lib\\site-packages\\sklearn\\linear_model\\_logistic.py:818: ConvergenceWarning: lbfgs failed to converge (status=1):\n",
      "STOP: TOTAL NO. of ITERATIONS REACHED LIMIT.\n",
      "\n",
      "Increase the number of iterations (max_iter) or scale the data as shown in:\n",
      "    https://scikit-learn.org/stable/modules/preprocessing.html\n",
      "Please also refer to the documentation for alternative solver options:\n",
      "    https://scikit-learn.org/stable/modules/linear_model.html#logistic-regression\n",
      "  extra_warning_msg=_LOGISTIC_SOLVER_CONVERGENCE_MSG,\n"
     ]
    }
   ],
   "source": [
    "import pandas as pd\n",
    "from sklearn.model_selection import train_test_split\n",
    "from sklearn.linear_model import LogisticRegression\n",
    "\n",
    "#원본 데이터 재로딩, 데이터 가공, 학습/테스트 데이터 분할\n",
    "titanic_df = pd.read_csv('titanic_train.csv')\n",
    "y_titanic_df = titanic_df['Survived']\n",
    "X_titanic_df = titanic_df.drop('Survived', axis=1)\n",
    "X_titanic_df = transform_features(X_titanic_df)\n",
    "\n",
    "X_train, X_test, y_train, y_test = train_test_split(X_titanic_df, y_titanic_df, test_size=0.2, random_state=11)\n",
    "lr_clf = LogisticRegression()\n",
    "\n",
    "lr_clf.fit(X_train, y_train)\n",
    "pred = lr_clf.predict(X_test)\n",
    "get_clf_eval(y_test, pred)"
   ]
  },
  {
   "cell_type": "markdown",
   "id": "removable-experiment",
   "metadata": {},
   "source": [
    "사이킷런 0.22 버전에서는 default solver가 'liblinear’ 에서 ‘lbfgs’ 로 변경되면서 경고 발생. max_iter 값 늘리기"
   ]
  },
  {
   "cell_type": "markdown",
   "id": "phantom-springfield",
   "metadata": {},
   "source": [
    "### 정밀도/재현율 트레이드오프"
   ]
  },
  {
   "cell_type": "markdown",
   "id": "reverse-calgary",
   "metadata": {},
   "source": [
    "분류의 결정 임곗값(Threshold)을 조정해 정밀도 또는 재현율의 수치를 높일 수 있음, 둘은 상호 보완적이므로 한 쪽 높이면 다른 쪽 낮아짐 - tradeoff\n",
    "\n",
    "predict_proba(test 데이터) : 개별 클래스 예측 확률 반환, ndarray m*n (m:입력 값의 레코드 수, n:클래스 값 유형)형태로 반환, 각 열은 개별 클래스의 예측 확률"
   ]
  },
  {
   "cell_type": "code",
   "execution_count": 8,
   "id": "personalized-potter",
   "metadata": {},
   "outputs": [
    {
     "name": "stdout",
     "output_type": "stream",
     "text": [
      "predict_proba()의 결과 Shape: (179, 2)\n",
      "pred_proba array에서 앞 3개만 추출\n",
      "[[0.46172445 0.53827555]\n",
      " [0.87862224 0.12137776]\n",
      " [0.87724968 0.12275032]]\n",
      "두개의 class중에서 더 큰 클래스 값으로 예측됨\n",
      "[[0.46172445 0.53827555 1.        ]\n",
      " [0.87862224 0.12137776 0.        ]\n",
      " [0.87724968 0.12275032 0.        ]]\n"
     ]
    }
   ],
   "source": [
    "#이진 분류면 첫번째 칼럼이 0에 대한 예측 확률, 두번째 칼럼이 1에 대한 예측 확률\n",
    "pred_proba = lr_clf.predict_proba(X_test)\n",
    "print('predict_proba()의 결과 Shape: {0}'.format(pred_proba.shape))\n",
    "print('pred_proba array에서 앞 3개만 추출')\n",
    "print(pred_proba[:3])\n",
    "\n",
    "#예측 확률 array와 예측 결괏값 array를 병합(concatenate)해 예측 확률과 결괏값을 한 눈에 확인\n",
    "pred_proba_result = np.concatenate([pred_proba, pred.reshape(-1,1)], axis=1)\n",
    "print('두개의 class중에서 더 큰 클래스 값으로 예측됨')\n",
    "print(pred_proba_result[:3])"
   ]
  },
  {
   "cell_type": "markdown",
   "id": "focused-headline",
   "metadata": {},
   "source": [
    "predict()는 predict_proba()의 결과 배열에서 분류 결정 임계값보다 큰 값이 들어있는 칼럼의 위치를 받아서 최종적으로 예측 클래스 결정"
   ]
  },
  {
   "cell_type": "code",
   "execution_count": 9,
   "id": "polyphonic-summer",
   "metadata": {},
   "outputs": [
    {
     "name": "stdout",
     "output_type": "stream",
     "text": [
      "[[0. 0. 1.]\n",
      " [1. 0. 0.]\n",
      " [0. 0. 1.]]\n"
     ]
    }
   ],
   "source": [
    "#이것을 코드로 구현 - Binarizer 이용(fit_transform(ndarray): ndarray의 값이 threshold보다 같거나 작으면 0, 크면 1 반환)\n",
    "from sklearn.preprocessing import Binarizer\n",
    "\n",
    "X = [[1, -1, 2],\n",
    "    [2, 0, 0],\n",
    "    [0, 1.1, 1.2]]\n",
    "\n",
    "#X의 개별 원소들이 threshold 값보다 같거나 작으면 0, 크면 1 반환\n",
    "binarizer = Binarizer(threshold=1.1)\n",
    "print(binarizer.fit_transform(X))"
   ]
  },
  {
   "cell_type": "code",
   "execution_count": 10,
   "id": "interracial-taiwan",
   "metadata": {},
   "outputs": [
    {
     "name": "stdout",
     "output_type": "stream",
     "text": [
      "오차 행렬\n",
      "[[104  14]\n",
      " [ 13  48]]\n",
      "정확도: 0.8492, 정밀도: 0.7742, 재현율: 0.7869\n"
     ]
    }
   ],
   "source": [
    "from sklearn.preprocessing import Binarizer\n",
    "\n",
    "#Binarizer의 threshold 설정값. 분류 결정 임계값임\n",
    "custom_threshold = 0.5\n",
    "\n",
    "#predict_proba() 반환값의 두번째 칼럼, 즉 Positive 클래스 칼럼 하나만 추출해 Binarizer를 적용\n",
    "pred_proba_1 = pred_proba[:, 1].reshape(-1,1)\n",
    "binarizer = Binarizer(threshold=custom_threshold).fit(pred_proba_1)\n",
    "custom_predict = binarizer.transform(pred_proba_1)\n",
    "\n",
    "get_clf_eval(y_test, custom_predict)"
   ]
  },
  {
   "cell_type": "code",
   "execution_count": 11,
   "id": "amber-theorem",
   "metadata": {},
   "outputs": [
    {
     "name": "stdout",
     "output_type": "stream",
     "text": [
      "오차 행렬\n",
      "[[99 19]\n",
      " [10 51]]\n",
      "정확도: 0.8380, 정밀도: 0.7286, 재현율: 0.8361\n"
     ]
    }
   ],
   "source": [
    "#Binarizer의 threshold 설정값 0.4로 설정, 분류 설정 임계값을 0.5에서 0.4로 낮춤\n",
    "custom_threshold = 0.4\n",
    "pred_proba_1 = pred_proba[:, 1].reshape(-1,1)\n",
    "binarizer = Binarizer(threshold=custom_threshold).fit(pred_proba_1)\n",
    "custom_predict = binarizer.transform(pred_proba_1)\n",
    "\n",
    "get_clf_eval(y_test, custom_predict)"
   ]
  },
  {
   "cell_type": "markdown",
   "id": "after-lexington",
   "metadata": {},
   "source": [
    "임계값 낮췄더니 정밀도 감소, 재현율 증가 - True 값이 많아지게 되므로 재현율 값 높아짐, 양성 예측을 많이 하여서 실제 양성을 음성으로 예측하는 횟수 상대적으로 감소"
   ]
  },
  {
   "cell_type": "code",
   "execution_count": 12,
   "id": "romance-latino",
   "metadata": {},
   "outputs": [
    {
     "name": "stdout",
     "output_type": "stream",
     "text": [
      "임계값 : 0.4\n",
      "오차 행렬\n",
      "[[99 19]\n",
      " [10 51]]\n",
      "정확도: 0.8380, 정밀도: 0.7286, 재현율: 0.8361\n",
      "\n",
      "임계값 : 0.45\n",
      "오차 행렬\n",
      "[[103  15]\n",
      " [ 12  49]]\n",
      "정확도: 0.8492, 정밀도: 0.7656, 재현율: 0.8033\n",
      "\n",
      "임계값 : 0.5\n",
      "오차 행렬\n",
      "[[104  14]\n",
      " [ 13  48]]\n",
      "정확도: 0.8492, 정밀도: 0.7742, 재현율: 0.7869\n",
      "\n",
      "임계값 : 0.55\n",
      "오차 행렬\n",
      "[[109   9]\n",
      " [ 15  46]]\n",
      "정확도: 0.8659, 정밀도: 0.8364, 재현율: 0.7541\n",
      "\n",
      "임계값 : 0.6\n",
      "오차 행렬\n",
      "[[112   6]\n",
      " [ 16  45]]\n",
      "정확도: 0.8771, 정밀도: 0.8824, 재현율: 0.7377\n",
      "\n"
     ]
    }
   ],
   "source": [
    "#테스트를 수행할 모든 임곗값을 리스트 객체에 저장\n",
    "thresholds = [0.4, 0.45, 0.50, 0.55, 0.60]\n",
    "\n",
    "def get_eval_by_threshold(y_test, pred_proba_c1, thresholds):\n",
    "    #thresholds 객체 내의 값을 차례로 iteration하면서 Evaluation 수행\n",
    "    for custom_threshold in thresholds:\n",
    "        binarizer = Binarizer(threshold=custom_threshold).fit(pred_proba_c1)\n",
    "        custom_predict = binarizer.transform(pred_proba_c1)\n",
    "        print('임계값 :', custom_threshold)\n",
    "        get_clf_eval(y_test, custom_predict)\n",
    "        print()\n",
    "        \n",
    "get_eval_by_threshold(y_test, pred_proba[:, 1].reshape(-1,1), thresholds)"
   ]
  },
  {
   "cell_type": "code",
   "execution_count": 13,
   "id": "solved-yellow",
   "metadata": {},
   "outputs": [
    {
     "name": "stdout",
     "output_type": "stream",
     "text": [
      "반환된 분류 결정 임곗값 배열의 shape: (143,)\n",
      "샘플 추출을 위한 임계값 배열의 index 10개: [  0  15  30  45  60  75  90 105 120 135]\n",
      "샘플용 10개의 임계값: [0.1039 0.1214 0.1403 0.1866 0.2806 0.4039 0.5649 0.667  0.8221 0.9473]\n",
      "샘플 임계값별 정밀도: [0.389 0.44  0.466 0.539 0.647 0.729 0.836 0.949 0.958 1.   ]\n",
      "샘플 임계값별 재현율: [1.    0.967 0.902 0.902 0.902 0.836 0.754 0.607 0.377 0.148]\n"
     ]
    }
   ],
   "source": [
    "#위와 유사한 API: precision_recall_curve(실제 클래스값 배열, Positive 예측 확률 배열) -> 임곗값별 정밀도, 재현율 값을 배열로 반환\n",
    "from sklearn.metrics import precision_recall_curve\n",
    "\n",
    "#레이블 값이 1일 때의 예측확률 추출\n",
    "pred_proba_class1 = lr_clf.predict_proba(X_test)[:, 1]\n",
    "\n",
    "#실제값 데이터 세트와 레이블 값이 1일때의 예측 확률을 precision_recall_curve 인자로 입력\n",
    "precisions, recalls, thresholds = precision_recall_curve(y_test, pred_proba_class1)\n",
    "print('반환된 분류 결정 임곗값 배열의 shape:', thresholds.shape)\n",
    "\n",
    "#반환된 임계값 배열 로우가 147건이므로 샘플로 10건만 추출하되, 임계값을 15 step으로 추출\n",
    "thr_index = np.arange(0, thresholds.shape[0], 15)\n",
    "print('샘플 추출을 위한 임계값 배열의 index 10개:', thr_index)\n",
    "print('샘플용 10개의 임계값:', np.round(thresholds[thr_index], 4))\n",
    "\n",
    "#15step 단위로 추출된 임계값에 따른 정밀도와 재현율 값 - 임계값 증가할수록 정밀도 증가, 재현율 감소\n",
    "print('샘플 임계값별 정밀도:', np.round(precisions[thr_index], 3))\n",
    "print('샘플 임계값별 재현율:', np.round(recalls[thr_index], 3))"
   ]
  },
  {
   "cell_type": "code",
   "execution_count": 14,
   "id": "devoted-hostel",
   "metadata": {},
   "outputs": [
    {
     "data": {
      "image/png": "[encoded data removed]",
      "text/plain": [
       "<Figure size 576x432 with 1 Axes>"
      ]
     },
     "metadata": {
      "needs_background": "light"
     },
     "output_type": "display_data"
    }
   ],
   "source": [
    "import matplotlib.pyplot as plt\n",
    "import matplotlib.ticker as ticker\n",
    "%matplotlib inline\n",
    "\n",
    "def precision_recall_curve_plot(y_test, pred_proba_c1):\n",
    "    #threshold ndarray와 이 threshold에 따른 정밀도, 재현율 ndarray 추출\n",
    "    precisions, recalls, thresholds = precision_recall_curve(y_test, pred_proba_c1)\n",
    "    \n",
    "    #X축을 threshold값으로, Y축은 정밀도, 재현율 값으로 각각 plot 수행, 점밀도는 점선으로\n",
    "    plt.figure(figsize=(8,6))\n",
    "    threshold_boundary = thresholds.shape[0]\n",
    "    plt.plot(thresholds, precisions[0:threshold_boundary], linestyle='--', label='precision')\n",
    "    plt.plot(thresholds, recalls[0:threshold_boundary], label='recall')\n",
    "    \n",
    "    #threshold 값 X축의 scale을 0.1단위로 변경\n",
    "    start, end = plt.xlim()\n",
    "    plt.xticks(np.round(np.arange(start, end, 0.1), 2))\n",
    "    \n",
    "    #x축, y축 label과 legend, grid 설정\n",
    "    plt.xlabel('Threshold value'); plt.ylabel('Precision and Recall value')\n",
    "    plt.legend(); plt.grid()\n",
    "    plt.show()\n",
    "    \n",
    "precision_recall_curve_plot(y_test, lr_clf.predict_proba(X_test)[:, 1])"
   ]
  },
  {
   "cell_type": "markdown",
   "id": "plastic-extra",
   "metadata": {},
   "source": [
    "### 정밀도와 재현율의 맹점"
   ]
  },
  {
   "cell_type": "markdown",
   "id": "entitled-beauty",
   "metadata": {},
   "source": [
    "정밀도 또는 재현율 중 하나에 상대적인 중요도를 부여해 각 상황에 맞게 알고리즘 튜닝할 수 있지만, 하나를 극단적으로 높이면 안됨.\n",
    "\n",
    "정밀도와 재현율의 수치가 적절하게 조합되어야 분류의 종합적인 성능 평가 가능"
   ]
  },
  {
   "cell_type": "markdown",
   "id": "transparent-banking",
   "metadata": {},
   "source": [
    "## F1 스코어"
   ]
  },
  {
   "cell_type": "markdown",
   "id": "superior-wichita",
   "metadata": {},
   "source": [
    "정밀도와 재현율을 결합한 지표, 둘 중 어느 쪽으로 치우치지 않을 때 F1 스코어 값이 상대적으로 높음\n",
    "\n",
    "F1 = 2 * (precision * recall) / (precision + recall)"
   ]
  },
  {
   "cell_type": "code",
   "execution_count": 15,
   "id": "cubic-return",
   "metadata": {},
   "outputs": [
    {
     "name": "stdout",
     "output_type": "stream",
     "text": [
      "F1 스코어: 0.7805\n"
     ]
    }
   ],
   "source": [
    "from sklearn.metrics import f1_score\n",
    "f1 = f1_score(y_test, pred)\n",
    "print('F1 스코어: {0:.4f}'.format(f1))"
   ]
  },
  {
   "cell_type": "code",
   "execution_count": 16,
   "id": "controversial-diamond",
   "metadata": {},
   "outputs": [
    {
     "name": "stdout",
     "output_type": "stream",
     "text": [
      "임계값 : 0.4\n",
      "오차 행렬\n",
      "[[99 19]\n",
      " [10 51]]\n",
      "정확도: 0.8380, 정밀도: 0.7286, 재현율: 0.8361, F1: 0.7786\n",
      "\n",
      "임계값 : 0.45\n",
      "오차 행렬\n",
      "[[103  15]\n",
      " [ 12  49]]\n",
      "정확도: 0.8492, 정밀도: 0.7656, 재현율: 0.8033, F1: 0.7840\n",
      "\n",
      "임계값 : 0.5\n",
      "오차 행렬\n",
      "[[104  14]\n",
      " [ 13  48]]\n",
      "정확도: 0.8492, 정밀도: 0.7742, 재현율: 0.7869, F1: 0.7805\n",
      "\n",
      "임계값 : 0.55\n",
      "오차 행렬\n",
      "[[109   9]\n",
      " [ 15  46]]\n",
      "정확도: 0.8659, 정밀도: 0.8364, 재현율: 0.7541, F1: 0.7931\n",
      "\n",
      "임계값 : 0.6\n",
      "오차 행렬\n",
      "[[112   6]\n",
      " [ 16  45]]\n",
      "정확도: 0.8771, 정밀도: 0.8824, 재현율: 0.7377, F1: 0.8036\n",
      "\n"
     ]
    }
   ],
   "source": [
    "def get_clf_eval(y_test, pred):\n",
    "    confusion = confusion_matrix(y_test, pred)\n",
    "    accuracy = accuracy_score(y_test, pred)\n",
    "    precision = precision_score(y_test, pred)\n",
    "    recall = recall_score(y_test, pred)\n",
    "    #F1 스코어 추가\n",
    "    f1 = f1_score(y_test, pred)\n",
    "    print('오차 행렬')\n",
    "    print(confusion)\n",
    "    #F1 score print도 추가\n",
    "    print('정확도: {0:.4f}, 정밀도: {1:.4f}, 재현율: {2:.4f}, F1: {3:.4f}'.format(accuracy, precision, recall, f1))\n",
    "    \n",
    "thresholds = [0.4, 0.45, 0.50, 0.55, 0.60]\n",
    "pred_proba = lr_clf.predict_proba(X_test)\n",
    "get_eval_by_threshold(y_test, pred_proba[:, 1].reshape(-1,1), thresholds)"
   ]
  },
  {
   "cell_type": "markdown",
   "id": "common-essay",
   "metadata": {},
   "source": [
    "## ROC 곡선과 AUC"
   ]
  },
  {
   "cell_type": "markdown",
   "id": "political-scoop",
   "metadata": {},
   "source": [
    "ROC곡선과 그에 기반한 AUC score은 이진 분류의 예측 성능 측정에서 중요하게 사용되는 지표\n",
    "\n",
    "ROC 곡선(Receiver Operation Characteristic Curve): FPR이 변할 때 TPR(재현율)이 어떻게 변하는지를 나타내는 곡선, FPR을 X축으로 TPR을 Y축으로\n",
    "- TPR(True Positive Rate): 재현율, 재현율은 민감도로도 불림, 실제값 Positive가 정확히 예측되어야 하는 수준\n",
    "    - TPR = TP / (FN + TP)\n",
    "\n",
    "- 민감도에 대응하는 지표로 TNR(True Negative Rate)이라고 불리는 특이성이 있음, 실제값 Negative가 정확히 예측되어야 하는 수준\n",
    "    - TNR = TN / (FP + TN)\n",
    "\n",
    "- FPR(False Positive Rate) = FP / (FP + TN) = 1 - TNR = 1 - 특이성"
   ]
  },
  {
   "cell_type": "markdown",
   "id": "applicable-variety",
   "metadata": {},
   "source": [
    "ROC 곡선은 FPR을 0에서 1까지 변경하면서 TPR의 변화값 구함\n",
    "\n",
    "FPR 값 변경하려면 분류 결정 임계값 변경하면 됨.\n",
    "- FPR 0 : 임계값 1\n",
    "    - 임계값 1로 지정하면 Positive 기준이 높아서 Positive로 예측할 수 없음, FP 값 0이 되므로 FPR도 0\n",
    "\n",
    "- FPR 1 : 임계값 0\n",
    "    - 임계값 0으로 지정하면 Positive 기준이 낮아서 다 Positive로 예측, TN 값 0이 되므로 FPR은 1"
   ]
  },
  {
   "cell_type": "code",
   "execution_count": 17,
   "id": "anticipated-clear",
   "metadata": {},
   "outputs": [
    {
     "name": "stdout",
     "output_type": "stream",
     "text": [
      "샘플 추출을 위한 임계값 배열의 index: [ 1  6 11 16 21 26 31 36 41 46 51]\n",
      "샘플용 10개의 임계값: [0.9651 0.6543 0.6303 0.5942 0.4886 0.3994 0.3096 0.1478 0.1228 0.112\n",
      " 0.1039]\n",
      "샘플 임계값별 FPR: [0.    0.017 0.034 0.059 0.127 0.161 0.237 0.483 0.61  0.703 0.814]\n",
      "샘플 임계값별 TPR: [0.033 0.639 0.705 0.754 0.787 0.852 0.885 0.902 0.934 0.967 0.984]\n"
     ]
    }
   ],
   "source": [
    "#roc_curve(실제 클래스 값, predict_proba()반환 값 중 Positive 칼럼) -> fpr, tpr, thresholds 값 array로 반환\n",
    "from sklearn.metrics import roc_curve\n",
    "\n",
    "#레이블 값이 1일때의 예측확률 추출\n",
    "pred_proba_class1 = lr_clf.predict_proba(X_test)[:, 1]\n",
    "\n",
    "fprs, tprs, thresholds = roc_curve(y_test, pred_proba_class1)\n",
    "#반환된 임계값 배열에서 샘플로 데이터 추출하되, 임계값을 5step으로 추출\n",
    "#thresholds[0]: max(예측확률+1)로 임의 설정됨. 이를 제외하기 위해 np.arange는 1부터 시작\n",
    "thr_index = np.arange(1, thresholds.shape[0], 5)\n",
    "print('샘플 추출을 위한 임계값 배열의 index:', thr_index)\n",
    "print('샘플용 10개의 임계값:', np.round(thresholds[thr_index], 4))\n",
    "\n",
    "#5step 단위로 추출된 임계값에 따른 FPR, TPR 값\n",
    "print('샘플 임계값별 FPR:', np.round(fprs[thr_index], 3))\n",
    "print('샘플 임계값별 TPR:', np.round(tprs[thr_index], 3))"
   ]
  },
  {
   "cell_type": "markdown",
   "id": "backed-parks",
   "metadata": {},
   "source": [
    "임계값이 1에 가까운 값에서 작아질수록 FPR 커짐. FPR 조금씩 커질 때, TPR은 가파르게 커짐"
   ]
  },
  {
   "cell_type": "code",
   "execution_count": 18,
   "id": "german-marine",
   "metadata": {},
   "outputs": [
    {
     "data": {
      "image/png": "[encoded data removed]",
      "text/plain": [
       "<Figure size 432x288 with 1 Axes>"
      ]
     },
     "metadata": {
      "needs_background": "light"
     },
     "output_type": "display_data"
    }
   ],
   "source": [
    "def roc_curve_plot(y_test, pred_proba_c1):\n",
    "    #임계값에 따른 FPR, TPR 값 반환받음\n",
    "    fprs, tprs, thresholds = roc_curve(y_test, pred_proba_c1)\n",
    "    #ROC 곡선을 그래프 곡선으로 그림\n",
    "    plt.plot(fprs, tprs, label='ROC')\n",
    "    #가운데 대각선 직선을 그림\n",
    "    plt.plot([0,1], [0,1], 'k--', label='Random')\n",
    "    \n",
    "    #FPR X축의 Scale을 0.1 단위로 변경, X, Y축 명 설정 등\n",
    "    start, end = plt.xlim()\n",
    "    plt.xticks(np.round(np.arange(start, end, 0.1),2))\n",
    "    plt.xlim(0,1); plt.ylim(0,1)\n",
    "    plt.xlabel('FPR(1 - Sensitivity)'); plt.ylabel('TPR(Recall)')\n",
    "    plt.legend()\n",
    "    \n",
    "roc_curve_plot(y_test, pred_proba[:, 1])"
   ]
  },
  {
   "cell_type": "markdown",
   "id": "tested-tackle",
   "metadata": {},
   "source": [
    "왼쪽 하단과 오른쪽 상단을 대각선으로 이은 직선은 ROC 곡선의 최저값, 랜덤 수준의 이진 분류의 ROC 직선(AUC = 0.5)\n",
    "\n",
    "ROC 곡선이 이 직선에 가까울수록 성능 떨어짐, 멀어질수록 성능 뛰어남"
   ]
  },
  {
   "cell_type": "markdown",
   "id": "obvious-notion",
   "metadata": {},
   "source": [
    "ROC 곡선은 FPR, TPR의 변화 값 보는 데 이용, 분류 성능 지표로 사용되는 것은 ROC 곡선 밑의 면적인 AUC 값(예측 확률값을 기반으로)\n",
    "\n",
    "AUC가 1에 가까울 수록 좋은 수치: 작은 FPR에서 얼마나 큰 TPR을 구할 수 있는지가 관건, 가운데 직선에서 멀어지고 왼쪽 상단 모서리 쪽으로 가파르게 이동하는 직사각형에 가까운 곡선인 경우"
   ]
  },
  {
   "cell_type": "code",
   "execution_count": 19,
   "id": "juvenile-demand",
   "metadata": {},
   "outputs": [
    {
     "name": "stdout",
     "output_type": "stream",
     "text": [
      "ROC AUC 값: 0.9024\n"
     ]
    }
   ],
   "source": [
    "from sklearn.metrics import roc_auc_score\n",
    "\n",
    "pred_proba = lr_clf.predict_proba(X_test)[:, 1]\n",
    "roc_score = roc_auc_score(y_test, pred_proba)\n",
    "print('ROC AUC 값: {0:.4f}'.format(roc_score))"
   ]
  },
  {
   "cell_type": "code",
   "execution_count": 20,
   "id": "rising-cable",
   "metadata": {},
   "outputs": [
    {
     "name": "stdout",
     "output_type": "stream",
     "text": [
      "임계값 : 0.4\n",
      "오차 행렬\n",
      "[[99 19]\n",
      " [10 51]]\n",
      "정확도: 0.8380, 정밀도: 0.7286, 재현율: 0.8361, F1: 0.7786, AUC: 0.9024\n",
      "\n",
      "임계값 : 0.45\n",
      "오차 행렬\n",
      "[[103  15]\n",
      " [ 12  49]]\n",
      "정확도: 0.8492, 정밀도: 0.7656, 재현율: 0.8033, F1: 0.7840, AUC: 0.9024\n",
      "\n",
      "임계값 : 0.5\n",
      "오차 행렬\n",
      "[[104  14]\n",
      " [ 13  48]]\n",
      "정확도: 0.8492, 정밀도: 0.7742, 재현율: 0.7869, F1: 0.7805, AUC: 0.9024\n",
      "\n",
      "임계값 : 0.55\n",
      "오차 행렬\n",
      "[[109   9]\n",
      " [ 15  46]]\n",
      "정확도: 0.8659, 정밀도: 0.8364, 재현율: 0.7541, F1: 0.7931, AUC: 0.9024\n",
      "\n",
      "임계값 : 0.6\n",
      "오차 행렬\n",
      "[[112   6]\n",
      " [ 16  45]]\n",
      "정확도: 0.8771, 정밀도: 0.8824, 재현율: 0.7377, F1: 0.8036, AUC: 0.9024\n",
      "\n"
     ]
    }
   ],
   "source": [
    "def get_clf_eval(y_test, pred=None, pred_proba=None):\n",
    "    confusion = confusion_matrix(y_test, pred)\n",
    "    accuracy = accuracy_score(y_test, pred)\n",
    "    precision = precision_score(y_test, pred)\n",
    "    recall = recall_score(y_test, pred)\n",
    "    f1 = f1_score(y_test, pred)\n",
    "    roc_auc = roc_auc_score(y_test, pred_proba)\n",
    "    print('오차 행렬')\n",
    "    print(confusion)\n",
    "    print('정확도: {0:.4f}, 정밀도: {1:.4f}, 재현율: {2:.4f}, F1: {3:.4f}, AUC: {4:.4f}'\n",
    "          .format(accuracy, precision, recall, f1, roc_auc))\n",
    "    \n",
    "thresholds = [0.4, 0.45, 0.50, 0.55, 0.60]\n",
    "pred_proba = lr_clf.predict_proba(X_test)[:, 1]\n",
    "\n",
    "def get_eval_by_threshold(y_test, pred_proba_c1, thresholds):\n",
    "    for custom_threshold in thresholds:\n",
    "        binarizer = Binarizer(threshold=custom_threshold).fit(pred_proba_c1)\n",
    "        custom_predict = binarizer.transform(pred_proba_c1)\n",
    "        print('임계값 :', custom_threshold)\n",
    "        get_clf_eval(y_test, custom_predict, pred_proba_c1)\n",
    "        print()\n",
    "\n",
    "get_eval_by_threshold(y_test, pred_proba.reshape(-1,1), thresholds)"
   ]
  }
 ],
 "metadata": {
  "kernelspec": {
   "display_name": "Python 3",
   "language": "python",
   "name": "python3"
  },
  "language_info": {
   "codemirror_mode": {
    "name": "ipython",
    "version": 3
   },
   "file_extension": ".py",
   "mimetype": "text/x-python",
   "name": "python",
   "nbconvert_exporter": "python",
   "pygments_lexer": "ipython3",
   "version": "3.7.5"
  }
 },
 "nbformat": 4,
 "nbformat_minor": 5
}
