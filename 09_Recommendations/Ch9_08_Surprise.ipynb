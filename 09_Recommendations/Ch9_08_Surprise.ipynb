{
  "nbformat": 4,
  "nbformat_minor": 0,
  "metadata": {
    "colab": {
      "name": "Ch9_08_Surprise.ipynb",
      "provenance": [],
      "collapsed_sections": [],
      "authorship_tag": "ABX9TyM3NAKUnAbeFx62yC+d9pzQ",
      "include_colab_link": true
    },
    "kernelspec": {
      "name": "python3",
      "display_name": "Python 3"
    },
    "language_info": {
      "name": "python"
    }
  },
  "cells": [
    {
      "cell_type": "markdown",
      "metadata": {
        "id": "view-in-github",
        "colab_type": "text"
      },
      "source": [
        "<a href=\"https://colab.research.google.com/github/hyomin14/python_ML_practice/blob/main/09_Recommendations/Ch9_08_Surprise.ipynb\" target=\"_parent\"><img src=\"https://colab.research.google.com/assets/colab-badge.svg\" alt=\"Open In Colab\"/></a>"
      ]
    },
    {
      "cell_type": "markdown",
      "source": [
        "## 파이썬 추천 시스템 패키지 - Surprise"
      ],
      "metadata": {
        "id": "poDu3itEaZpO"
      }
    },
    {
      "cell_type": "markdown",
      "source": [
        "### Surprise를 이용한 추천 시스템 구축"
      ],
      "metadata": {
        "id": "mRpaTp_3atyj"
      }
    },
    {
      "cell_type": "code",
      "source": [
        "!pip install scikit-surprise"
      ],
      "metadata": {
        "colab": {
          "base_uri": "https://localhost:8080/"
        },
        "id": "BsTspZEochd0",
        "outputId": "372828b3-2e4c-4949-9a49-5857557a5064"
      },
      "execution_count": 4,
      "outputs": [
        {
          "output_type": "stream",
          "name": "stdout",
          "text": [
            "Collecting scikit-surprise\n",
            "  Downloading scikit-surprise-1.1.1.tar.gz (11.8 MB)\n",
            "\u001b[K     |████████████████████████████████| 11.8 MB 24.3 MB/s \n",
            "\u001b[?25hRequirement already satisfied: joblib>=0.11 in /usr/local/lib/python3.7/dist-packages (from scikit-surprise) (1.1.0)\n",
            "Requirement already satisfied: numpy>=1.11.2 in /usr/local/lib/python3.7/dist-packages (from scikit-surprise) (1.19.5)\n",
            "Requirement already satisfied: scipy>=1.0.0 in /usr/local/lib/python3.7/dist-packages (from scikit-surprise) (1.4.1)\n",
            "Requirement already satisfied: six>=1.10.0 in /usr/local/lib/python3.7/dist-packages (from scikit-surprise) (1.15.0)\n",
            "Building wheels for collected packages: scikit-surprise\n",
            "  Building wheel for scikit-surprise (setup.py) ... \u001b[?25l\u001b[?25hdone\n",
            "  Created wheel for scikit-surprise: filename=scikit_surprise-1.1.1-cp37-cp37m-linux_x86_64.whl size=1623324 sha256=69057e45a162b678aa303c0b18323e07277e4130a33b6a9b17b0d8a6680355b4\n",
            "  Stored in directory: /root/.cache/pip/wheels/76/44/74/b498c42be47b2406bd27994e16c5188e337c657025ab400c1c\n",
            "Successfully built scikit-surprise\n",
            "Installing collected packages: scikit-surprise\n",
            "Successfully installed scikit-surprise-1.1.1\n"
          ]
        }
      ]
    },
    {
      "cell_type": "code",
      "execution_count": 5,
      "metadata": {
        "id": "5j_oekO2aYSC"
      },
      "outputs": [],
      "source": [
        "from surprise import SVD, Dataset, accuracy\n",
        "from surprise.model_selection import train_test_split"
      ]
    },
    {
      "cell_type": "code",
      "source": [
        "data = Dataset.load_builtin('ml-100k')  #과거 버전의 데이터 파일로 분리 문자가 탭(\\t) 문자임\n",
        "#수행시마다 동일하게 데이터 분할하기 위해 random_state값 부여\n",
        "trainset, testset = train_test_split(data, test_size=.25, random_state=0)"
      ],
      "metadata": {
        "colab": {
          "base_uri": "https://localhost:8080/"
        },
        "id": "oFGvy-Xea4ol",
        "outputId": "3156d300-2a1d-46a3-a2cd-29addd51ce77"
      },
      "execution_count": 6,
      "outputs": [
        {
          "output_type": "stream",
          "name": "stdout",
          "text": [
            "Dataset ml-100k could not be found. Do you want to download it? [Y/n] Y\n",
            "Trying to download dataset from http://files.grouplens.org/datasets/movielens/ml-100k.zip...\n",
            "Done! Dataset ml-100k has been saved to /root/.surprise_data/ml-100k\n"
          ]
        }
      ]
    },
    {
      "cell_type": "code",
      "source": [
        "type(trainset)"
      ],
      "metadata": {
        "colab": {
          "base_uri": "https://localhost:8080/"
        },
        "id": "ow8_duJnd620",
        "outputId": "0fedd655-9a85-4734-d3c6-2d159bc82e45"
      },
      "execution_count": 11,
      "outputs": [
        {
          "output_type": "execute_result",
          "data": {
            "text/plain": [
              "surprise.trainset.Trainset"
            ]
          },
          "metadata": {},
          "execution_count": 11
        }
      ]
    },
    {
      "cell_type": "code",
      "source": [
        "algo = SVD()\n",
        "algo.fit(trainset)"
      ],
      "metadata": {
        "colab": {
          "base_uri": "https://localhost:8080/"
        },
        "id": "EYw86ZMadBE1",
        "outputId": "499073b1-534c-4fed-9fcb-d6d421a149c0"
      },
      "execution_count": 7,
      "outputs": [
        {
          "output_type": "execute_result",
          "data": {
            "text/plain": [
              "<surprise.prediction_algorithms.matrix_factorization.SVD at 0x7f85dde93350>"
            ]
          },
          "metadata": {},
          "execution_count": 7
        }
      ]
    },
    {
      "cell_type": "code",
      "source": [
        "#test(): 사용자-아이템 평점 데이터 세트 전체에 대해서 추천 예측\n",
        "#predict(): 개별 사용자와 영화에 대한 추천 평점 반환\n",
        "predictions = algo.test(testset)\n",
        "print('prediction type:', type(predictions), ', size:', len(predictions))\n",
        "print('predictions 결과의 최초 5개 추출')\n",
        "predictions[:5]"
      ],
      "metadata": {
        "colab": {
          "base_uri": "https://localhost:8080/"
        },
        "id": "feG9yVfUdbrb",
        "outputId": "80947c91-1e77-4bd8-d273-793b4344e8c6"
      },
      "execution_count": 8,
      "outputs": [
        {
          "output_type": "stream",
          "name": "stdout",
          "text": [
            "prediction type: <class 'list'> , size: 25000\n",
            "predictions 결과의 최초 5개 추출\n"
          ]
        },
        {
          "output_type": "execute_result",
          "data": {
            "text/plain": [
              "[Prediction(uid='120', iid='282', r_ui=4.0, est=3.638652144331622, details={'was_impossible': False}),\n",
              " Prediction(uid='882', iid='291', r_ui=4.0, est=3.8411408611067723, details={'was_impossible': False}),\n",
              " Prediction(uid='535', iid='507', r_ui=5.0, est=3.897371767289689, details={'was_impossible': False}),\n",
              " Prediction(uid='697', iid='244', r_ui=5.0, est=3.5401836913661224, details={'was_impossible': False}),\n",
              " Prediction(uid='751', iid='385', r_ui=4.0, est=3.447863194068727, details={'was_impossible': False})]"
            ]
          },
          "metadata": {},
          "execution_count": 8
        }
      ]
    },
    {
      "cell_type": "markdown",
      "source": [
        "uid: 개별 사용자 아이디, iid: 영화나 아이템 아이디, r_ui: 실제 평점, est: 추천 예측 평점\n",
        "\n",
        "details: 내부 처리 시 추천 예측을 할 수 없는 경우 로그용으로 데이터를 남기는데 사용 - True이면 예측값 생성할 수 없음"
      ],
      "metadata": {
        "id": "OPQfh0NGeJvG"
      }
    },
    {
      "cell_type": "code",
      "source": [
        "[(pred.uid, pred.iid, pred.est) for pred in predictions[:3]]"
      ],
      "metadata": {
        "colab": {
          "base_uri": "https://localhost:8080/"
        },
        "id": "zeNaPjdAd2m0",
        "outputId": "a4eb1ff8-ffd0-43a6-e90f-3eb4f83d81f2"
      },
      "execution_count": 12,
      "outputs": [
        {
          "output_type": "execute_result",
          "data": {
            "text/plain": [
              "[('120', '282', 3.638652144331622),\n",
              " ('882', '291', 3.8411408611067723),\n",
              " ('535', '507', 3.897371767289689)]"
            ]
          },
          "metadata": {},
          "execution_count": 12
        }
      ]
    },
    {
      "cell_type": "code",
      "source": [
        "#사용자 아이디, 아이템 아이디는 문자열로 입력해야함\n",
        "uid = str(196)\n",
        "iid = str(302)\n",
        "pred = algo.predict(uid, iid)\n",
        "print(pred)"
      ],
      "metadata": {
        "colab": {
          "base_uri": "https://localhost:8080/"
        },
        "id": "Z6JPnkf3ei1W",
        "outputId": "d86cb6c8-8ed6-4485-c192-6c2df4c8029d"
      },
      "execution_count": 13,
      "outputs": [
        {
          "output_type": "stream",
          "name": "stdout",
          "text": [
            "user: 196        item: 302        r_ui = None   est = 4.28   {'was_impossible': False}\n"
          ]
        }
      ]
    },
    {
      "cell_type": "code",
      "source": [
        "accuracy.rmse(predictions)"
      ],
      "metadata": {
        "colab": {
          "base_uri": "https://localhost:8080/"
        },
        "id": "4GiqFH_-e0-K",
        "outputId": "ebea644c-611a-4150-9cb8-3fda5de38277"
      },
      "execution_count": 14,
      "outputs": [
        {
          "output_type": "stream",
          "name": "stdout",
          "text": [
            "RMSE: 0.9464\n"
          ]
        },
        {
          "output_type": "execute_result",
          "data": {
            "text/plain": [
              "0.9464128894921023"
            ]
          },
          "metadata": {},
          "execution_count": 14
        }
      ]
    },
    {
      "cell_type": "markdown",
      "source": [
        "#### OS 파일 데이터를 Surprise 데이터 세트로 로딩"
      ],
      "metadata": {
        "id": "X2Rbms6higek"
      }
    },
    {
      "cell_type": "code",
      "source": [
        "import pandas as pd\n",
        "\n",
        "ratings = pd.read_csv('ratings.csv')\n",
        "ratings.to_csv('ratings_noh.csv', index=False, header=False)"
      ],
      "metadata": {
        "id": "gMW00p0Ve8jq"
      },
      "execution_count": 15,
      "outputs": []
    },
    {
      "cell_type": "code",
      "source": [
        "from surprise import Reader\n",
        "\n",
        "reader = Reader(line_format='user item rating timestamp', sep=',', rating_scale=(0.5, 5))\n",
        "data = Dataset.load_from_file('ratings_noh.csv', reader=reader)"
      ],
      "metadata": {
        "id": "KT1N2D0JixTK"
      },
      "execution_count": 16,
      "outputs": []
    },
    {
      "cell_type": "code",
      "source": [
        "trainset, testset = train_test_split(data, test_size=0.25, random_state=0)\n",
        "\n",
        "algo = SVD(n_factors=50, random_state=0)\n",
        "algo.fit(trainset)\n",
        "predictions = algo.test(testset)\n",
        "accuracy.rmse(predictions)"
      ],
      "metadata": {
        "colab": {
          "base_uri": "https://localhost:8080/"
        },
        "id": "lhWP2RpqjBgf",
        "outputId": "8d1bc76d-30e4-4560-aa46-b0b11a9a4c23"
      },
      "execution_count": 17,
      "outputs": [
        {
          "output_type": "stream",
          "name": "stdout",
          "text": [
            "RMSE: 0.8682\n"
          ]
        },
        {
          "output_type": "execute_result",
          "data": {
            "text/plain": [
              "0.8681952927143516"
            ]
          },
          "metadata": {},
          "execution_count": 17
        }
      ]
    },
    {
      "cell_type": "markdown",
      "source": [
        "#### pandas DataFrame에서 Surprise 데이터 세트로 로딩"
      ],
      "metadata": {
        "id": "-IQaPql7jSp8"
      }
    },
    {
      "cell_type": "code",
      "source": [
        "ratings = pd.read_csv('ratings.csv')\n",
        "reader = Reader(rating_scale=(0.5, 5.0))\n",
        "\n",
        "data = Dataset.load_from_df(ratings[['userId', 'movieId', 'rating']], reader)\n",
        "\n",
        "trainset, testset = train_test_split(data, test_size=0.25, random_state=0)\n",
        "\n",
        "algo = SVD(n_factors=50, random_state=0)\n",
        "algo.fit(trainset)\n",
        "predictions = algo.test(testset)\n",
        "accuracy.rmse(predictions)"
      ],
      "metadata": {
        "colab": {
          "base_uri": "https://localhost:8080/"
        },
        "id": "r_2V7LxrjQRP",
        "outputId": "757f8015-dc2a-42f6-9a88-dcbf05738d4a"
      },
      "execution_count": 18,
      "outputs": [
        {
          "output_type": "stream",
          "name": "stdout",
          "text": [
            "RMSE: 0.8682\n"
          ]
        },
        {
          "output_type": "execute_result",
          "data": {
            "text/plain": [
              "0.8681952927143516"
            ]
          },
          "metadata": {},
          "execution_count": 18
        }
      ]
    },
    {
      "cell_type": "markdown",
      "source": [
        "### 교차 검증과 하이퍼 파라미터 튜닝"
      ],
      "metadata": {
        "id": "wVg7XN-Hj2Mb"
      }
    },
    {
      "cell_type": "code",
      "source": [
        "from surprise.model_selection import cross_validate\n",
        "\n",
        "#pandas DataFrame에서 Surprise 데이터 세트로 데이터 로딩\n",
        "ratings = pd.read_csv('ratings.csv')\n",
        "reader = Reader(rating_scale=(0.5, 5.0))\n",
        "data = Dataset.load_from_df(ratings[['userId', 'movieId', 'rating']], reader)\n",
        "\n",
        "algo = SVD(random_state=0)\n",
        "cross_validate(algo, data, measures=['RMSE', 'MAE'], cv=5, verbose=True)"
      ],
      "metadata": {
        "colab": {
          "base_uri": "https://localhost:8080/"
        },
        "id": "Zb96GzGjjpnM",
        "outputId": "aced9227-4199-40e8-fd33-875f73898f6e"
      },
      "execution_count": 19,
      "outputs": [
        {
          "output_type": "stream",
          "name": "stdout",
          "text": [
            "Evaluating RMSE, MAE of algorithm SVD on 5 split(s).\n",
            "\n",
            "                  Fold 1  Fold 2  Fold 3  Fold 4  Fold 5  Mean    Std     \n",
            "RMSE (testset)    0.8771  0.8674  0.8721  0.8728  0.8788  0.8737  0.0040  \n",
            "MAE (testset)     0.6771  0.6647  0.6710  0.6735  0.6732  0.6719  0.0041  \n",
            "Fit time          9.40    7.52    6.43    6.13    7.03    7.30    1.15    \n",
            "Test time         0.31    0.36    0.21    0.51    0.29    0.34    0.10    \n"
          ]
        },
        {
          "output_type": "execute_result",
          "data": {
            "text/plain": [
              "{'fit_time': (9.397850513458252,\n",
              "  7.518667459487915,\n",
              "  6.434463262557983,\n",
              "  6.130863428115845,\n",
              "  7.031172513961792),\n",
              " 'test_mae': array([0.67714348, 0.66465789, 0.67096788, 0.67345602, 0.67320181]),\n",
              " 'test_rmse': array([0.87706137, 0.86744847, 0.87210519, 0.8728253 , 0.87884626]),\n",
              " 'test_time': (0.305645227432251,\n",
              "  0.36110973358154297,\n",
              "  0.21231603622436523,\n",
              "  0.5113053321838379,\n",
              "  0.28947949409484863)}"
            ]
          },
          "metadata": {},
          "execution_count": 19
        }
      ]
    },
    {
      "cell_type": "code",
      "source": [
        "from surprise.model_selection import GridSearchCV\n",
        "\n",
        "#최적화할 파라미터를 딕셔너리 형태로 지정\n",
        "param_grid = {'n_epochs':[20, 40, 60], 'n_factors':[50, 100, 200]}\n",
        "\n",
        "#cv를 3개 폴드 세트로 지정, 성능 평가는 rmse, mse로 수행하도록 GridSearchCV 구성\n",
        "gs = GridSearchCV(SVD, param_grid, measures=['rmse', 'mae'], cv=3, joblib_verbose=2)\n",
        "gs.fit(data)\n",
        "\n",
        "# 최고 RMSE Evaluation 점수와 그때의 하이퍼 파라미터\n",
        "print(gs.best_score['rmse'])\n",
        "print(gs.best_params['rmse'])"
      ],
      "metadata": {
        "colab": {
          "base_uri": "https://localhost:8080/"
        },
        "id": "QNaQQlm1lvta",
        "outputId": "aecbe416-b937-4133-db55-691930703ac5"
      },
      "execution_count": 20,
      "outputs": [
        {
          "output_type": "stream",
          "name": "stderr",
          "text": [
            "[Parallel(n_jobs=1)]: Using backend SequentialBackend with 1 concurrent workers.\n",
            "[Parallel(n_jobs=1)]: Done   1 out of   1 | elapsed:    3.4s remaining:    0.0s\n"
          ]
        },
        {
          "output_type": "stream",
          "name": "stdout",
          "text": [
            "0.8771505989593898\n",
            "{'n_epochs': 20, 'n_factors': 50}\n"
          ]
        },
        {
          "output_type": "stream",
          "name": "stderr",
          "text": [
            "[Parallel(n_jobs=1)]: Done  27 out of  27 | elapsed:  5.1min finished\n"
          ]
        }
      ]
    },
    {
      "cell_type": "markdown",
      "source": [
        "### Surprise를 이용한 개인화 영화 추천 시스템 구축"
      ],
      "metadata": {
        "id": "JH8kP7Dlmy2Y"
      }
    },
    {
      "cell_type": "code",
      "source": [
        "#데이터 세트 전체를 학습 데이터로 사용하려면 DatasetAutoFolds 클래스 이용\n",
        "from surprise.dataset import DatasetAutoFolds\n",
        "\n",
        "ratings = pd.read_csv('ratings.csv')\n",
        "ratings.to_csv('ratings_noh.csv', index=False, header=False)\n",
        "reader = Reader(line_format='user item rating timestamp', sep=',', rating_scale=(0.5, 5))\n",
        "#DatasetAutoFolds 클래스를 ratings_noh.csv 파일 기반으로 생성\n",
        "data_folds = DatasetAutoFolds(ratings_file='ratings_noh.csv', reader=reader)\n",
        "\n",
        "#전체 데이터를 학습 데이터로 생성\n",
        "trainset = data_folds.build_full_trainset()"
      ],
      "metadata": {
        "id": "KLHG1jQkm-6H"
      },
      "execution_count": 22,
      "outputs": []
    },
    {
      "cell_type": "code",
      "source": [
        "algo = SVD(n_epochs=20, n_factors=50, random_state=0)\n",
        "algo.fit(trainset)"
      ],
      "metadata": {
        "colab": {
          "base_uri": "https://localhost:8080/"
        },
        "id": "KydhSPqYogU_",
        "outputId": "f64353f3-e1b0-4218-8577-a7d9f5ccf83a"
      },
      "execution_count": 23,
      "outputs": [
        {
          "output_type": "execute_result",
          "data": {
            "text/plain": [
              "<surprise.prediction_algorithms.matrix_factorization.SVD at 0x7f85da875190>"
            ]
          },
          "metadata": {},
          "execution_count": 23
        }
      ]
    },
    {
      "cell_type": "code",
      "source": [
        "#영화에 대한 상세 속성 정보 DataFrame 로딩\n",
        "movies = pd.read_csv('movies.csv')\n",
        "\n",
        "#userId=9의 movieId 데이터를 추출해 movieId=42인 데이터가 있는지 확인\n",
        "movieIds = ratings[ratings['userId']==9]['movieId']\n",
        "if movieIds[movieIds==42].count()==0:\n",
        "    print('사용자 아이디 9는 영화 아이디 42의 평점 없음')\n",
        "print(movies[movies['movieId']==42])"
      ],
      "metadata": {
        "colab": {
          "base_uri": "https://localhost:8080/"
        },
        "id": "nc5Y5cSeo1-g",
        "outputId": "8c93ee8e-ed34-4a91-e695-90c15bb88b7b"
      },
      "execution_count": 26,
      "outputs": [
        {
          "output_type": "stream",
          "name": "stdout",
          "text": [
            "사용자 아이디 9는 영화 아이디 42의 평점 없음\n",
            "    movieId                   title              genres\n",
            "38       42  Dead Presidents (1995)  Action|Crime|Drama\n"
          ]
        }
      ]
    },
    {
      "cell_type": "code",
      "source": [
        "movieIds"
      ],
      "metadata": {
        "colab": {
          "base_uri": "https://localhost:8080/"
        },
        "id": "6O5dGvxqpjb_",
        "outputId": "8586510b-3305-45af-a240-941ec62091ea"
      },
      "execution_count": 27,
      "outputs": [
        {
          "output_type": "execute_result",
          "data": {
            "text/plain": [
              "1073      41\n",
              "1074     187\n",
              "1075     223\n",
              "1076     371\n",
              "1077     627\n",
              "1078     922\n",
              "1079     923\n",
              "1080    1037\n",
              "1081    1095\n",
              "1082    1198\n",
              "1083    1270\n",
              "1084    1674\n",
              "1085    1987\n",
              "1086    2011\n",
              "1087    2012\n",
              "1088    2023\n",
              "1089    2300\n",
              "1090    2877\n",
              "1091    2901\n",
              "1092    3173\n",
              "1093    3328\n",
              "1094    3735\n",
              "1095    4131\n",
              "1096    4558\n",
              "1097    4993\n",
              "1098    5218\n",
              "1099    5378\n",
              "1100    5445\n",
              "1101    5447\n",
              "1102    5451\n",
              "1103    5481\n",
              "1104    5507\n",
              "1105    5841\n",
              "1106    5843\n",
              "1107    5872\n",
              "1108    5890\n",
              "1109    5891\n",
              "1110    5893\n",
              "1111    5902\n",
              "1112    5952\n",
              "1113    5956\n",
              "1114    5962\n",
              "1115    5965\n",
              "1116    5988\n",
              "1117    6001\n",
              "1118    6044\n",
              "Name: movieId, dtype: int64"
            ]
          },
          "metadata": {},
          "execution_count": 27
        }
      ]
    },
    {
      "cell_type": "code",
      "source": [
        "uid = str(9)\n",
        "iid = str(42)\n",
        "pred = algo.predict(uid, iid, verbose=True)"
      ],
      "metadata": {
        "colab": {
          "base_uri": "https://localhost:8080/"
        },
        "id": "B6aZP6MCpu7-",
        "outputId": "c5e8a783-8652-48a3-edce-3ef14334b92c"
      },
      "execution_count": 28,
      "outputs": [
        {
          "output_type": "stream",
          "name": "stdout",
          "text": [
            "user: 9          item: 42         r_ui = None   est = 3.13   {'was_impossible': False}\n"
          ]
        }
      ]
    },
    {
      "cell_type": "code",
      "source": [
        "#평점 매기지 않은 전체 영화 추출\n",
        "def get_unseen_surprise(ratings, movies, userId):\n",
        "    #입력값으로 들어온 userId에 해당하는 사용자가 평점을 매긴 모든 영화를 리스트로 생성\n",
        "    seen_movies = ratings[ratings['userId']==userId]['movieId'].tolist()\n",
        "\n",
        "    #모든 영화의 movieId를 리스트로 생성\n",
        "    total_movies = movies['movieId'].tolist()\n",
        "\n",
        "    #모든 영화의 movieId 중 이미 평점 매긴 영화의 movieId 제외한 후 리스트로 생성\n",
        "    unseen_movies = [movie for movie in total_movies if movie not in seen_movies]\n",
        "    print('평점 매긴 영화 수:', len(seen_movies), ', 추천 대상 영화 수:', len(unseen_movies), \n",
        "          ', 전체 영화 수:', len(total_movies))\n",
        "    return unseen_movies\n",
        "\n",
        "unseen_movies = get_unseen_surprise(ratings, movies, 9)"
      ],
      "metadata": {
        "colab": {
          "base_uri": "https://localhost:8080/"
        },
        "id": "XDqoDrXup_Ym",
        "outputId": "6c7fc844-3e66-47f7-c675-38acae69b0ff"
      },
      "execution_count": 30,
      "outputs": [
        {
          "output_type": "stream",
          "name": "stdout",
          "text": [
            "평점 매긴 영화 수: 46 , 추천 대상 영화 수: 9696 , 전체 영화 수: 9742\n"
          ]
        }
      ]
    },
    {
      "cell_type": "code",
      "source": [
        "#인자로 학습 완료된 추천 알고리즘 객체, 추천 대상 사용자 아이디, 추천 대상 영화의 리스트, 추천 상위 N개 받음\n",
        "def recomm_movie_by_surprise(algo, userId, unseen_movies, top_n=10):\n",
        "    #알고리즘 객체의 predict() 메서드를 평점이 없는 영화에 반복 수행한 후 결과를 list 객체로 저장\n",
        "    predictions = [algo.predict(str(userId), str(movieId)) for movieId in unseen_movies]\n",
        "\n",
        "    #predictions list 객체는 surprise의 Predictions 객체를 원소를 가지고 있음\n",
        "    #[Predictions(uid='9', iid='1', est=3.69), ...]\n",
        "\n",
        "    #이를 est 값으로 정렬하기 위해서는 아래의 sortkey_est 함수 정의\n",
        "    #sortkey_est 함수는 list 객체의 sort()함수의 키 값으로 사용되어 정렬 수행\n",
        "    def sortkey_est(pred):\n",
        "        return pred.est\n",
        "    \n",
        "    #sortkey_est() 반환값의 내림 차순으로 정렬 수행하고 top_n개의 최상위 값 추출\n",
        "    predictions.sort(key=sortkey_est, reverse=True)\n",
        "    top_predictions = predictions[:top_n]\n",
        "\n",
        "    # top_n으로 추출된 영화의 정보 추출. 영화 아이디, 추천 예상 평점, 제목 추출\n",
        "    top_movie_ids = [ int(pred.iid) for pred in top_predictions]\n",
        "    top_movie_rating = [ pred.est for pred in top_predictions]\n",
        "    top_movie_titles = movies[movies.movieId.isin(top_movie_ids)]['title']\n",
        "    top_movie_preds = [ (id, title, rating) for id, title, rating in zip(top_movie_ids, top_movie_titles, top_movie_rating)]\n",
        "    \n",
        "    return top_movie_preds\n",
        "\n",
        "top_movie_preds = recomm_movie_by_surprise(algo, 9, unseen_movies, top_n=10)\n",
        "\n",
        "print('##### Top-10 추천 영화 리스트 #####')\n",
        "for top_movie in top_movie_preds:\n",
        "    print(top_movie[1], ':', top_movie[2])\n",
        "    print()"
      ],
      "metadata": {
        "colab": {
          "base_uri": "https://localhost:8080/"
        },
        "id": "TbP2-hP-q496",
        "outputId": "2a77f599-e6fb-4ce6-8e05-a9db58210a20"
      },
      "execution_count": 35,
      "outputs": [
        {
          "output_type": "stream",
          "name": "stdout",
          "text": [
            "##### Top-10 추천 영화 리스트 #####\n",
            "Usual Suspects, The (1995) : 4.306302135700814\n",
            "\n",
            "Star Wars: Episode IV - A New Hope (1977) : 4.281663842987387\n",
            "\n",
            "Pulp Fiction (1994) : 4.278152632122759\n",
            "\n",
            "Silence of the Lambs, The (1991) : 4.226073566460876\n",
            "\n",
            "Godfather, The (1972) : 4.1918097904381995\n",
            "\n",
            "Streetcar Named Desire, A (1951) : 4.154746591122658\n",
            "\n",
            "Star Wars: Episode V - The Empire Strikes Back (1980) : 4.122016128534504\n",
            "\n",
            "Star Wars: Episode VI - Return of the Jedi (1983) : 4.108009609093436\n",
            "\n",
            "Goodfellas (1990) : 4.083464936588478\n",
            "\n",
            "Glory (1989) : 4.07887165526957\n",
            "\n"
          ]
        }
      ]
    },
    {
      "cell_type": "code",
      "source": [
        "predictions = [algo.predict(str(9), str(movieId)) for movieId in unseen_movies]\n",
        "predictions[:10]"
      ],
      "metadata": {
        "colab": {
          "base_uri": "https://localhost:8080/"
        },
        "id": "CuIJwJQWtdnA",
        "outputId": "b4b561d5-ef5f-4074-f3ee-51d3c649630d"
      },
      "execution_count": 37,
      "outputs": [
        {
          "output_type": "execute_result",
          "data": {
            "text/plain": [
              "[Prediction(uid='9', iid='1', r_ui=None, est=3.6398015009715396, details={'was_impossible': False}),\n",
              " Prediction(uid='9', iid='2', r_ui=None, est=3.0708535569743463, details={'was_impossible': False}),\n",
              " Prediction(uid='9', iid='3', r_ui=None, est=2.9912517694217033, details={'was_impossible': False}),\n",
              " Prediction(uid='9', iid='4', r_ui=None, est=2.7584914835669805, details={'was_impossible': False}),\n",
              " Prediction(uid='9', iid='5', r_ui=None, est=2.653809583804632, details={'was_impossible': False}),\n",
              " Prediction(uid='9', iid='6', r_ui=None, est=3.7627640786692917, details={'was_impossible': False}),\n",
              " Prediction(uid='9', iid='7', r_ui=None, est=2.883779132627597, details={'was_impossible': False}),\n",
              " Prediction(uid='9', iid='8', r_ui=None, est=2.9865774263273672, details={'was_impossible': False}),\n",
              " Prediction(uid='9', iid='9', r_ui=None, est=2.7889711267915422, details={'was_impossible': False}),\n",
              " Prediction(uid='9', iid='10', r_ui=None, est=3.3040663633820104, details={'was_impossible': False})]"
            ]
          },
          "metadata": {},
          "execution_count": 37
        }
      ]
    }
  ]
}